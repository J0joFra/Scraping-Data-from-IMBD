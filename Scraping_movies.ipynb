{
 "cells": [
  {
   "cell_type": "code",
   "execution_count": 36,
   "metadata": {},
   "outputs": [],
   "source": [
    "# Import Libraries\n",
    "import pandas as pd   \n",
    "import requests   \n",
    "from bs4 import BeautifulSoup\n",
    "import numpy as np  "
   ]
  },
  {
   "cell_type": "code",
   "execution_count": 37,
   "metadata": {},
   "outputs": [],
   "source": [
    "url = \"https://www.imdb.com/search/title/?count=100&groups=top_1000&sort=user_rating\""
   ]
  },
  {
   "cell_type": "code",
   "execution_count": null,
   "metadata": {},
   "outputs": [],
   "source": [
    "# HTTP request\n",
    "response = requests.get(url)\n",
    "if response.status_code == 200:\n",
    "    soup = BeautifulSoup(response.content, 'html.parser')\n",
    "\n",
    "    # Now we can parse the HTML content\n",
    "    movies = soup.find_all('div', class_='lister-item mode-advanced')\n",
    "\n",
    "    for movie in movies:\n",
    "        header = movie.find('h3', class_='lister-item-header')\n",
    "        title = header.find('a').text\n",
    "        year = header.find('span', class_='lister-item-year').text\n",
    "        rating = movie.find('div', class_='inline-block ratings-imdb-rating')['data-value']\n",
    "        \n",
    "        print(f\"Title: {title}, Year: {year}, Rating: {rating}\")\n",
    "else:\n",
    "    print(f\"Failed to retrieve the page. Status code: {response.status_code}\")"
   ]
  },
  {
   "cell_type": "code",
   "execution_count": 38,
   "metadata": {},
   "outputs": [
    {
     "name": "stdout",
     "output_type": "stream",
     "text": [
      "<html>\n",
      "<head><title>403 Forbidden</title></head>\n",
      "<body>\n",
      "<center><h1>403 Forbidden</h1></center>\n",
      "</body>\n",
      "</html>\n",
      "\n"
     ]
    }
   ],
   "source": [
    "print(soup)"
   ]
  },
  {
   "cell_type": "code",
   "execution_count": 39,
   "metadata": {},
   "outputs": [],
   "source": [
    "# Empty list\n",
    "movie_name = []\n",
    "year = []\n",
    "time = []\n",
    "rating = []\n",
    "metascore = []\n",
    "votes = []\n",
    "gross = []\n",
    "description = []\n",
    "Director = []\n",
    "Stars = []"
   ]
  },
  {
   "cell_type": "code",
   "execution_count": 40,
   "metadata": {},
   "outputs": [],
   "source": [
    "# Findall 'div'\n",
    "movie_data = soup.findAll('div', attrs= {'class': 'lister-item mode-advanced'})"
   ]
  },
  {
   "cell_type": "code",
   "execution_count": 41,
   "metadata": {},
   "outputs": [],
   "source": [
    "# Loop Scraping\n",
    "for store in movie_data:\n",
    "    name = store.h3.a.text\n",
    "    movie_name.append(name)\n",
    "    \n",
    "    year_of_release = store.h3.find('span', class_ = 'lister-item-year text-muted unbold').text.replace('(', '').replace(')', '')\n",
    "    year.append(year_of_release)\n",
    "    \n",
    "    runtime = store.p.find('span', class_ = 'runtime').text.replace(' min', '')\n",
    "    time.append(runtime)\n",
    "    \n",
    "    rate = store.find('div', class_ = 'inline-block ratings-imdb-rating').text.replace('\\n', '')\n",
    "    rating.append(rate)\n",
    "    \n",
    "    meta  = store.find('span', class_ = 'metascore').text.replace(' ', '') if store.find('span', class_ = 'metascore') else '^^^^^^'\n",
    "    metascore.append(meta)\n",
    "    \n",
    "    value = store.find_all('span', attrs = {'name': 'nv'})\n",
    "    \n",
    "    vote = value[0].text\n",
    "    votes.append(vote)\n",
    "    \n",
    "    grosses = value[1].text if len(value) >1 else '*****'\n",
    "    gross.append(grosses)\n",
    "    \n",
    "    describe = store.find_all('p', class_ = 'text-muted')\n",
    "    description_ = describe[1].text.replace('\\n', '') if len(describe) >1 else '*****'\n",
    "    description.append(description_)\n",
    "\n",
    "    cast = store.find(\"p\", class_ = '')\n",
    "    cast = cast.text.replace('\\n', '').split('|')\n",
    "    cast = [x.strip() for x in cast]\n",
    "    cast = [cast[i].replace(j, \"\") for i,j in enumerate([\"Director:\", \"Stars:\"])]\n",
    "    Director.append(cast[0])\n",
    "    Stars.append([x.strip() for x in cast[1].split(\",\")])"
   ]
  },
  {
   "cell_type": "code",
   "execution_count": 42,
   "metadata": {},
   "outputs": [],
   "source": [
    "#creating a dataframe using pandas library\n",
    "movie_DF = pd.DataFrame({'Name of movie': movie_name, 'Year of relase': year,\n",
    "                         'Watchtime': time, 'Movie Rating': rating,\n",
    "                         'Metascore': metascore, 'Votes': votes,\n",
    "                         'Gross collection': gross, 'Description': description,\n",
    "                         \"Director\": Director, 'Star': Stars})"
   ]
  },
  {
   "cell_type": "code",
   "execution_count": 43,
   "metadata": {},
   "outputs": [],
   "source": [
    "# Saving data in Excel file:\n",
    "movie_DF.to_excel(\"Top_100_IMDB_Movies.xlsx\")"
   ]
  },
  {
   "cell_type": "code",
   "execution_count": 44,
   "metadata": {},
   "outputs": [
    {
     "data": {
      "text/html": [
       "<div>\n",
       "<style scoped>\n",
       "    .dataframe tbody tr th:only-of-type {\n",
       "        vertical-align: middle;\n",
       "    }\n",
       "\n",
       "    .dataframe tbody tr th {\n",
       "        vertical-align: top;\n",
       "    }\n",
       "\n",
       "    .dataframe thead th {\n",
       "        text-align: right;\n",
       "    }\n",
       "</style>\n",
       "<table border=\"1\" class=\"dataframe\">\n",
       "  <thead>\n",
       "    <tr style=\"text-align: right;\">\n",
       "      <th></th>\n",
       "      <th>Name of movie</th>\n",
       "      <th>Year of relase</th>\n",
       "      <th>Watchtime</th>\n",
       "      <th>Movie Rating</th>\n",
       "      <th>Metascore</th>\n",
       "      <th>Votes</th>\n",
       "      <th>Gross collection</th>\n",
       "      <th>Description</th>\n",
       "      <th>Director</th>\n",
       "      <th>Star</th>\n",
       "    </tr>\n",
       "  </thead>\n",
       "  <tbody>\n",
       "  </tbody>\n",
       "</table>\n",
       "</div>"
      ],
      "text/plain": [
       "Empty DataFrame\n",
       "Columns: [Name of movie, Year of relase, Watchtime, Movie Rating, Metascore, Votes, Gross collection, Description, Director, Star]\n",
       "Index: []"
      ]
     },
     "execution_count": 44,
     "metadata": {},
     "output_type": "execute_result"
    }
   ],
   "source": [
    "movie_DF.head(7)"
   ]
  }
 ],
 "metadata": {
  "kernelspec": {
   "display_name": "base",
   "language": "python",
   "name": "python3"
  },
  "language_info": {
   "codemirror_mode": {
    "name": "ipython",
    "version": 3
   },
   "file_extension": ".py",
   "mimetype": "text/x-python",
   "name": "python",
   "nbconvert_exporter": "python",
   "pygments_lexer": "ipython3",
   "version": "3.11.5"
  }
 },
 "nbformat": 4,
 "nbformat_minor": 2
}
